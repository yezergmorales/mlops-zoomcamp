{
 "cells": [
  {
   "cell_type": "markdown",
   "metadata": {},
   "source": [
    "### Q1"
   ]
  },
  {
   "cell_type": "code",
   "execution_count": 3,
   "metadata": {},
   "outputs": [
    {
     "name": "stdout",
     "output_type": "stream",
     "text": [
      "Python 3.12.7\n"
     ]
    },
    {
     "data": {
      "text/plain": [
       "'2.22.0'"
      ]
     },
     "execution_count": 3,
     "metadata": {},
     "output_type": "execute_result"
    }
   ],
   "source": [
    "import pandas as pd\n",
    "import seaborn as sns\n",
    "import matplotlib.pyplot as plt\n",
    "import pickle as pk\n",
    "import mlflow\n",
    "import xgboost as xgb\n",
    "import pickle\n",
    "import os\n",
    "from sklearn.feature_extraction import DictVectorizer\n",
    "from sklearn.linear_model import LinearRegression, Lasso\n",
    "from sklearn.metrics import root_mean_squared_error\n",
    "from hyperopt import fmin, tpe, hp, STATUS_OK, Trials\n",
    "from hyperopt.pyll import scope\n",
    "\n",
    "!python -V\n",
    "mlflow.__version__"
   ]
  },
  {
   "cell_type": "markdown",
   "metadata": {},
   "source": [
    "### Q2"
   ]
  },
  {
   "cell_type": "code",
   "execution_count": 22,
   "metadata": {},
   "outputs": [
    {
     "name": "stdout",
     "output_type": "stream",
     "text": [
      "python: can't open file '/home/yezer/projects/mlops-zoomcamp/cohorts/2025/02-experiment-tracking/homework/preprocessing_data.py': [Errno 2] No such file or directory\n"
     ]
    }
   ],
   "source": [
    "# set the tracking uri to the local sqlite db\n",
    "mlflow.set_tracking_uri(\"sqlite:///mlflow.db\")\n",
    "# set the experiment name\n",
    "mlflow.set_experiment(\"NYC-taxi-duration-prediction\")\n",
    "\n",
    "# Get the current working directory, which is usually the project root in this context\n",
    "project_root = os.getcwd()\n",
    "project_root = os.path.split(project_root)[0]\n",
    "### preprocessing\n",
    "raw_data_path = \"./TAXI_DATA_FOLDER\"\n",
    "dataset = \"green\"\n",
    "dest_path = \"./output\"\n",
    "os.makedirs(dest_path, exist_ok=True)\n",
    "script_path = os.path.join(os.path.split(os.getcwd())[0], \"cohorts/2025/02-experiment-tracking/homework/preprocessing_data.py\")\n",
    "\n",
    "!python {script_path} --raw_data_path {raw_data_path} --dest_path {dest_path}"
   ]
  },
  {
   "cell_type": "markdown",
   "metadata": {},
   "source": [
    "### Q3"
   ]
  },
  {
   "cell_type": "code",
   "execution_count": null,
   "metadata": {},
   "outputs": [
    {
     "name": "stdout",
     "output_type": "stream",
     "text": [
      "2025/05/23 16:01:01 WARNING mlflow.utils.environment: Failed to resolve installed pip version. ``pip`` will be added to conda.yaml environment spec without a version specifier.\n"
     ]
    }
   ],
   "source": [
    "# $ mlflow ui --backend-store-uri sqlite:///mlflow.db\n",
    "\n",
    "script_path = os.path.join(os.path.split(os.getcwd())[0], \"cohorts/2025/02-experiment-tracking/homework/train.py\")\n",
    "data_path = \"./output\"\n",
    "\n",
    "!python {script_path} --data_path {data_path}"
   ]
  },
  {
   "cell_type": "markdown",
   "metadata": {},
   "source": [
    "### Q4"
   ]
  },
  {
   "cell_type": "code",
   "execution_count": null,
   "metadata": {},
   "outputs": [],
   "source": [
    "# $ mlflow server --backend-store-uri sqlite:///backend.db --default-artifact-root ./artifacts"
   ]
  },
  {
   "cell_type": "markdown",
   "metadata": {},
   "source": [
    "### Q5"
   ]
  },
  {
   "cell_type": "code",
   "execution_count": 24,
   "metadata": {},
   "outputs": [
    {
     "name": "stdout",
     "output_type": "stream",
     "text": [
      "🏃 View run hilarious-eel-914 at: http://127.0.0.1:5000/#/experiments/1/runs/0811428296b74368acbf856c925702c9\n",
      "\n",
      "🧪 View experiment at: http://127.0.0.1:5000/#/experiments/1                    \n",
      "\n",
      "🏃 View run enthused-snipe-723 at: http://127.0.0.1:5000/#/experiments/1/runs/36349a4a0967481ea7a0685a1f9d3ddd\n",
      "\n",
      "🧪 View experiment at: http://127.0.0.1:5000/#/experiments/1                    \n",
      "\n",
      "🏃 View run auspicious-cod-737 at: http://127.0.0.1:5000/#/experiments/1/runs/39c1e22da6054e8f9ca432bfb90f0947\n",
      "\n",
      "🧪 View experiment at: http://127.0.0.1:5000/#/experiments/1                    \n",
      "\n",
      "🏃 View run luxuriant-vole-469 at: http://127.0.0.1:5000/#/experiments/1/runs/00cb60b58e484e9bacb46cd6b599ec9e\n",
      "\n",
      "🧪 View experiment at: http://127.0.0.1:5000/#/experiments/1                    \n",
      "\n",
      "🏃 View run peaceful-calf-17 at: http://127.0.0.1:5000/#/experiments/1/runs/e60eb46fe02b4c2a9f1751dc21f285b1\n",
      "\n",
      "🧪 View experiment at: http://127.0.0.1:5000/#/experiments/1                    \n",
      "\n",
      "🏃 View run judicious-fly-382 at: http://127.0.0.1:5000/#/experiments/1/runs/ec35e1288bb84f50ad5b42c7195dab99\n",
      "\n",
      "🧪 View experiment at: http://127.0.0.1:5000/#/experiments/1                    \n",
      "\n",
      "🏃 View run enchanting-moth-539 at: http://127.0.0.1:5000/#/experiments/1/runs/110c3cfcd829449fbc4fdccd42a7da2b\n",
      "\n",
      "🧪 View experiment at: http://127.0.0.1:5000/#/experiments/1                    \n",
      "\n",
      "🏃 View run rare-hog-120 at: http://127.0.0.1:5000/#/experiments/1/runs/afffe8b46f3749e5b02c02303a6b1a21\n",
      "\n",
      "🧪 View experiment at: http://127.0.0.1:5000/#/experiments/1                    \n",
      "\n",
      "🏃 View run righteous-duck-875 at: http://127.0.0.1:5000/#/experiments/1/runs/92ec5aad891441f490ab3bcba8d43967\n",
      "\n",
      "🧪 View experiment at: http://127.0.0.1:5000/#/experiments/1                    \n",
      "\n",
      "🏃 View run masked-tern-414 at: http://127.0.0.1:5000/#/experiments/1/runs/bd9190645e564ffe9ce4032167c9641c\n",
      "\n",
      "🧪 View experiment at: http://127.0.0.1:5000/#/experiments/1                    \n",
      "\n",
      "🏃 View run sedate-gull-622 at: http://127.0.0.1:5000/#/experiments/1/runs/c61c47bbfb0e434fbb117aef539b7445\n",
      "\n",
      "🧪 View experiment at: http://127.0.0.1:5000/#/experiments/1                    \n",
      "\n",
      "🏃 View run charming-cat-79 at: http://127.0.0.1:5000/#/experiments/1/runs/47db7d7800094690aa391754ecbe96a8\n",
      "\n",
      "🧪 View experiment at: http://127.0.0.1:5000/#/experiments/1                    \n",
      "\n",
      "🏃 View run gifted-lamb-318 at: http://127.0.0.1:5000/#/experiments/1/runs/18544849edf243ce942257ef3c19b3f8\n",
      "\n",
      "🧪 View experiment at: http://127.0.0.1:5000/#/experiments/1                    \n",
      "\n",
      "🏃 View run painted-bird-526 at: http://127.0.0.1:5000/#/experiments/1/runs/71bf3bb46d004b398edf7657c97c0f66\n",
      "\n",
      "🧪 View experiment at: http://127.0.0.1:5000/#/experiments/1                    \n",
      "\n",
      "🏃 View run likeable-asp-949 at: http://127.0.0.1:5000/#/experiments/1/runs/42e5c30fe9a047c99b6b9fc63bb19453\n",
      "\n",
      "🧪 View experiment at: http://127.0.0.1:5000/#/experiments/1                    \n",
      "\n",
      "100%|██████████| 15/15 [01:48<00:00,  7.23s/trial, best loss: 5.335419588556921]\n"
     ]
    }
   ],
   "source": [
    "script_path = os.path.join(os.path.split(os.getcwd())[0], \"cohorts/2025/02-experiment-tracking/homework/hpo.py\")\n",
    "\n",
    "!python {script_path}"
   ]
  },
  {
   "cell_type": "markdown",
   "metadata": {},
   "source": [
    "### Q6\n"
   ]
  },
  {
   "cell_type": "code",
   "execution_count": 39,
   "metadata": {},
   "outputs": [
    {
     "name": "stderr",
     "output_type": "stream",
     "text": [
      "21172.61s - pydevd: Sending message related to process being replaced timed-out after 5 seconds\n"
     ]
    },
    {
     "name": "stdout",
     "output_type": "stream",
     "text": [
      "2025/05/23 17:21:59 INFO mlflow.tracking.fluent: Experiment with name 'random-forest-best-models' does not exist. Creating a new experiment.\n",
      "2025/05/23 17:22:19 WARNING mlflow.utils.environment: Failed to resolve installed pip version. ``pip`` will be added to conda.yaml environment spec without a version specifier.\n",
      "🏃 View run silent-gnu-792 at: http://127.0.0.1:5000/#/experiments/2/runs/b3dc58424ae04fe2923e5402d1f791e0\n",
      "🧪 View experiment at: http://127.0.0.1:5000/#/experiments/2\n",
      "2025/05/23 17:22:39 WARNING mlflow.utils.environment: Failed to resolve installed pip version. ``pip`` will be added to conda.yaml environment spec without a version specifier.\n",
      "🏃 View run mercurial-duck-659 at: http://127.0.0.1:5000/#/experiments/2/runs/0c09f82e56a646cca08ac264feb45b6f\n",
      "🧪 View experiment at: http://127.0.0.1:5000/#/experiments/2\n",
      "2025/05/23 17:22:52 WARNING mlflow.utils.environment: Failed to resolve installed pip version. ``pip`` will be added to conda.yaml environment spec without a version specifier.\n",
      "🏃 View run incongruous-kit-472 at: http://127.0.0.1:5000/#/experiments/2/runs/f628a7c75ad8411fbbf7d2d13cf655f9\n",
      "🧪 View experiment at: http://127.0.0.1:5000/#/experiments/2\n",
      "2025/05/23 17:23:08 WARNING mlflow.utils.environment: Failed to resolve installed pip version. ``pip`` will be added to conda.yaml environment spec without a version specifier.\n",
      "🏃 View run worried-koi-863 at: http://127.0.0.1:5000/#/experiments/2/runs/76fbf1b8dad14214a304bceda92b0543\n",
      "🧪 View experiment at: http://127.0.0.1:5000/#/experiments/2\n",
      "2025/05/23 17:23:35 WARNING mlflow.utils.environment: Failed to resolve installed pip version. ``pip`` will be added to conda.yaml environment spec without a version specifier.\n",
      "🏃 View run intelligent-jay-609 at: http://127.0.0.1:5000/#/experiments/2/runs/653f75f6563242afa29db44d2b3c5856\n",
      "🧪 View experiment at: http://127.0.0.1:5000/#/experiments/2\n",
      "Successfully registered model 'random-forest-best-models'.\n",
      "2025/05/23 17:23:42 INFO mlflow.store.model_registry.abstract_store: Waiting up to 300 seconds for model version to finish creation. Model name: random-forest-best-models, version 1\n",
      "Created version '1' of model 'random-forest-best-models'.\n"
     ]
    }
   ],
   "source": [
    "script_path = os.path.join(os.path.split(os.getcwd())[0], \"cohorts/2025/02-experiment-tracking/homework/register_model.py\")\n",
    "\n",
    "!python {script_path}"
   ]
  }
 ],
 "metadata": {
  "kernelspec": {
   "display_name": ".venv",
   "language": "python",
   "name": "python3"
  },
  "language_info": {
   "codemirror_mode": {
    "name": "ipython",
    "version": 3
   },
   "file_extension": ".py",
   "mimetype": "text/x-python",
   "name": "python",
   "nbconvert_exporter": "python",
   "pygments_lexer": "ipython3",
   "version": "3.12.3"
  }
 },
 "nbformat": 4,
 "nbformat_minor": 2
}
