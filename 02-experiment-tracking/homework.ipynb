{
 "cells": [
  {
   "cell_type": "markdown",
   "metadata": {},
   "source": [
    "### imports"
   ]
  },
  {
   "cell_type": "code",
   "execution_count": 15,
   "metadata": {},
   "outputs": [
    {
     "name": "stdout",
     "output_type": "stream",
     "text": [
      "Python 3.12.7\n"
     ]
    }
   ],
   "source": [
    "import pandas as pd\n",
    "import seaborn as sns\n",
    "import matplotlib.pyplot as plt\n",
    "import pickle as pk\n",
    "import mlflow\n",
    "import xgboost as xgb\n",
    "import pickle\n",
    "import os\n",
    "from sklearn.feature_extraction import DictVectorizer\n",
    "from sklearn.linear_model import LinearRegression, Lasso\n",
    "from sklearn.metrics import root_mean_squared_error\n",
    "from hyperopt import fmin, tpe, hp, STATUS_OK, Trials\n",
    "from hyperopt.pyll import scope\n",
    "\n",
    "!python -V"
   ]
  },
  {
   "cell_type": "markdown",
   "metadata": {},
   "source": [
    "### configs"
   ]
  },
  {
   "cell_type": "code",
   "execution_count": 16,
   "metadata": {},
   "outputs": [],
   "source": [
    "# configs\n",
    "# set the tracking uri to the local sqlite db\n",
    "mlflow.set_tracking_uri(\"sqlite:///mlflow.db\")\n",
    "# set the experiment name\n",
    "mlflow.set_experiment(\"NYC-taxi-duration-prediction\")\n",
    "# access to the ui\n",
    "#$ mlflow ui --backend-store-uri sqlite:///mlflow.db\n",
    "\n",
    "### preprocessing\n",
    "raw_data_path = \"./TAXI_DATA_FOLDER\"\n",
    "dataset = \"green\"\n",
    "dest_path = \"./output\"\n",
    "\n"
   ]
  },
  {
   "cell_type": "markdown",
   "metadata": {},
   "source": [
    "### preprocessing"
   ]
  },
  {
   "cell_type": "code",
   "execution_count": 13,
   "metadata": {},
   "outputs": [],
   "source": [
    "def dump_pickle(obj, filename: str):\n",
    "    with open(filename, \"wb\") as f_out:\n",
    "        return pickle.dump(obj, f_out)\n",
    "\n",
    "\n",
    "def read_dataframe(filename: str):\n",
    "    df = pd.read_parquet(filename)\n",
    "\n",
    "    df['duration'] = df['lpep_dropoff_datetime'] - df['lpep_pickup_datetime']\n",
    "    df.duration = df.duration.apply(lambda td: td.total_seconds() / 60)\n",
    "    df = df[(df.duration >= 1) & (df.duration <= 60)]\n",
    "\n",
    "    categorical = ['PULocationID', 'DOLocationID']\n",
    "    df[categorical] = df[categorical].astype(str)\n",
    "\n",
    "    return df\n",
    "\n",
    "\n",
    "def preprocess(df: pd.DataFrame, dv: DictVectorizer, fit_dv: bool = False):\n",
    "    df['PU_DO'] = df['PULocationID'] + '_' + df['DOLocationID']\n",
    "    categorical = ['PU_DO']\n",
    "    numerical = ['trip_distance']\n",
    "    dicts = df[categorical + numerical].to_dict(orient='records')\n",
    "    if fit_dv:\n",
    "        X = dv.fit_transform(dicts)\n",
    "    else:\n",
    "        X = dv.transform(dicts)\n",
    "    return X, dv"
   ]
  },
  {
   "cell_type": "code",
   "execution_count": 14,
   "metadata": {},
   "outputs": [],
   "source": [
    "# Load parquet files\n",
    "df_train = read_dataframe(\n",
    "    os.path.join(raw_data_path, f\"{dataset}_tripdata_2023-01.parquet\")\n",
    ")\n",
    "df_val = read_dataframe(\n",
    "    os.path.join(raw_data_path, f\"{dataset}_tripdata_2023-02.parquet\")\n",
    ")\n",
    "df_test = read_dataframe(\n",
    "    os.path.join(raw_data_path, f\"{dataset}_tripdata_2023-03.parquet\")\n",
    ")\n",
    "\n",
    "# Extract the target\n",
    "target = 'duration'\n",
    "y_train = df_train[target].values\n",
    "y_val = df_val[target].values\n",
    "y_test = df_test[target].values\n",
    "\n",
    "# Fit the DictVectorizer and preprocess data\n",
    "dv = DictVectorizer()\n",
    "X_train, dv = preprocess(df_train, dv, fit_dv=True)\n",
    "X_val, _ = preprocess(df_val, dv, fit_dv=False)\n",
    "X_test, _ = preprocess(df_test, dv, fit_dv=False)\n",
    "\n",
    "# Create dest_path folder unless it already exists\n",
    "os.makedirs(dest_path, exist_ok=True)\n",
    "\n",
    "# Save DictVectorizer and datasets\n",
    "dump_pickle(dv, os.path.join(dest_path, \"dv.pkl\"))\n",
    "dump_pickle((X_train, y_train), os.path.join(dest_path, \"train.pkl\"))\n",
    "dump_pickle((X_val, y_val), os.path.join(dest_path, \"val.pkl\"))\n",
    "dump_pickle((X_test, y_test), os.path.join(dest_path, \"test.pkl\"))"
   ]
  }
 ],
 "metadata": {
  "kernelspec": {
   "display_name": ".venv",
   "language": "python",
   "name": "python3"
  },
  "language_info": {
   "codemirror_mode": {
    "name": "ipython",
    "version": 3
   },
   "file_extension": ".py",
   "mimetype": "text/x-python",
   "name": "python",
   "nbconvert_exporter": "python",
   "pygments_lexer": "ipython3",
   "version": "3.12.3"
  }
 },
 "nbformat": 4,
 "nbformat_minor": 2
}
