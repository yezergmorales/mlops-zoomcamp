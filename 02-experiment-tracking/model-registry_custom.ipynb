{
 "cells": [
  {
   "cell_type": "markdown",
   "metadata": {},
   "source": [
    "### MLFlow model registry"
   ]
  },
  {
   "cell_type": "markdown",
   "metadata": {},
   "source": [
    "The key idea in this notebook is to do the same done in the ui.\n",
    "We take the last four logged experiments in duration-prediction_custom.ipynb"
   ]
  },
  {
   "cell_type": "markdown",
   "metadata": {},
   "source": [
    "start mlflow ui: $ mlflow ui --backend-store-uri sqlite:///mlflow.db"
   ]
  },
  {
   "cell_type": "code",
   "execution_count": 48,
   "metadata": {},
   "outputs": [
    {
     "data": {
      "text/plain": [
       "<Experiment: artifact_location='/home/yezer/projects/mlops-zoomcamp/02-experiment-tracking/mlruns/1', creation_time=1747818150363, experiment_id='1', last_update_time=1747818150363, lifecycle_stage='active', name='NYC-taxi-duration-prediction', tags={}>"
      ]
     },
     "execution_count": 48,
     "metadata": {},
     "output_type": "execute_result"
    }
   ],
   "source": [
    "from mlflow.tracking import MlflowClient\n",
    "from mlflow import register_model, set_tracking_uri\n",
    "import mlflow\n",
    "import os\n",
    "\n",
    "MLFLOW_TRACKING_URI = \"sqlite:///mlflow.db\"\n",
    "client = MlflowClient(tracking_uri=MLFLOW_TRACKING_URI)\n",
    "client.get_experiment(1)"
   ]
  },
  {
   "cell_type": "markdown",
   "metadata": {},
   "source": [
    "Create a new experiment\n",
    "\n",
    "to completely remove an experiment, apart from:\n",
    "experiment = client.get_experiment_by_name(new_exp)\n",
    "client.delete_experiment(experiment_id=experiment.experiment_id)\n",
    "\n",
    "we need in command line:\n",
    "$ mlflow gc --backend-store-uri sqlite:///mlflow.db"
   ]
  },
  {
   "cell_type": "code",
   "execution_count": 2,
   "metadata": {},
   "outputs": [
    {
     "name": "stdout",
     "output_type": "stream",
     "text": [
      "experiment: fake-exp-02\n",
      "experiment: NYC-taxi-duration-prediction\n",
      "exp: fake-exp-02 exists\n"
     ]
    }
   ],
   "source": [
    "new_exp = \"fake-exp-02\"\n",
    "exps = []\n",
    "client.search_experiments()\n",
    "for experiment in client.search_experiments():\n",
    "    print(f\"experiment: {experiment.name}\")\n",
    "    exps.append(experiment.name)\n",
    "\n",
    "experiment = client.get_experiment_by_name(new_exp)\n",
    "\n",
    "if new_exp not in exps:\n",
    "    client.create_experiment(new_exp)\n",
    "else:\n",
    "    print(f\"exp: {new_exp} exists\")"
   ]
  },
  {
   "cell_type": "code",
   "execution_count": 3,
   "metadata": {},
   "outputs": [
    {
     "name": "stdout",
     "output_type": "stream",
     "text": [
      "run id: 907ceeaca0a140b587ba34fa2afbe49f, rmse: 5.3333, nervous-squirrel-736\n",
      "run id: b02425fbf51e4fd9920677535f5a0f01, rmse: 5.3611, classy-penguin-714\n",
      "run id: 6e60d9492a0a48928ec46375026969bc, rmse: 6.0004, gaudy-sloth-127\n",
      "run id: 90edc445a6a0470b8fc5babbed0f338c, rmse: 8.5877, incongruous-gnu-622\n"
     ]
    }
   ],
   "source": [
    "from mlflow.entities import ViewType\n",
    "\n",
    "runs = client.search_runs(\n",
    "    experiment_ids=\"1\",\n",
    "    filter_string=\"metrics.rmse < 10.0 and tags.developer = 'yezer'\",\n",
    "    order_by=[\"metrics.rmse ASC\"],\n",
    "    run_view_type=ViewType.ACTIVE_ONLY,\n",
    ")\n",
    "for run in runs:\n",
    "    print(f\"run id: {run.info.run_id}, rmse: {run.data.metrics['rmse']:.4f}, {run.info.run_name}\")"
   ]
  },
  {
   "cell_type": "code",
   "execution_count": 11,
   "metadata": {},
   "outputs": [
    {
     "name": "stderr",
     "output_type": "stream",
     "text": [
      "Registered model 'nyc-taxi-regressor' already exists. Creating a new version of this model...\n",
      "Created version '2' of model 'nyc-taxi-regressor'.\n"
     ]
    }
   ],
   "source": [
    "# register models with commands. SO far, the models are logged but not registered.\n",
    "run_id = \"2cc0ea6b57ee46648d49a29ef374eb83\"\n",
    "model_uri = f\"runs:/{run_id}/models_mlflow\"  # go to run annd check if the path exists\n",
    "set_tracking_uri(MLFLOW_TRACKING_URI)\n",
    "result = register_model(\n",
    "    model_uri=model_uri,\n",
    "    name=\"nyc-taxi-regressor\",\n",
    ")\n",
    "\n",
    "# we can add an aliases in ui"
   ]
  },
  {
   "cell_type": "code",
   "execution_count": 38,
   "metadata": {},
   "outputs": [
    {
     "name": "stdout",
     "output_type": "stream",
     "text": [
      "[<ModelVersion: aliases=[], creation_timestamp=1747925245796, current_stage='None', description='', last_updated_timestamp=1747925245796, name='nyc-taxi-regressor', run_id='90edc445a6a0470b8fc5babbed0f338c', run_link='', source='/home/yezer/projects/mlops-zoomcamp/02-experiment-tracking/mlruns/1/90edc445a6a0470b8fc5babbed0f338c/artifacts/models_mlflow', status='READY', status_message=None, tags={'status': 'production', 'validation_status': 'approved'}, user_id=None, version=4>, <ModelVersion: aliases=[], creation_timestamp=1747924659402, current_stage='None', description='', last_updated_timestamp=1747924659402, name='nyc-taxi-regressor', run_id='907ceeaca0a140b587ba34fa2afbe49f', run_link='', source='/home/yezer/projects/mlops-zoomcamp/02-experiment-tracking/mlruns/1/907ceeaca0a140b587ba34fa2afbe49f/artifacts/models_mlflow', status='READY', status_message=None, tags={'status': 'stage', 'validation_status': 'approved'}, user_id=None, version=3>, <ModelVersion: aliases=[], creation_timestamp=1747924648524, current_stage='None', description='', last_updated_timestamp=1747924648524, name='nyc-taxi-regressor', run_id='6e60d9492a0a48928ec46375026969bc', run_link='', source='/home/yezer/projects/mlops-zoomcamp/02-experiment-tracking/mlruns/1/6e60d9492a0a48928ec46375026969bc/artifacts/models_mlflow', status='READY', status_message=None, tags={'status': 'stage', 'validation_status': 'pending'}, user_id=None, version=2>, <ModelVersion: aliases=[], creation_timestamp=1747924608078, current_stage='None', description='', last_updated_timestamp=1747924608078, name='nyc-taxi-regressor', run_id='b02425fbf51e4fd9920677535f5a0f01', run_link='', source='/home/yezer/projects/mlops-zoomcamp/02-experiment-tracking/mlruns/1/b02425fbf51e4fd9920677535f5a0f01/artifacts/models_mlflow', status='READY', status_message=None, tags={'status': 'archived', 'validation_status': 'approved'}, user_id=None, version=1>]\n",
      "version: 4, tags: {'validation_status': 'approved', 'status': 'production'} run_id:90edc445a6a0470b8fc5babbed0f338c\n",
      "version: 3, tags: {'validation_status': 'approved', 'status': 'stage'} run_id:907ceeaca0a140b587ba34fa2afbe49f\n",
      "version: 2, tags: {'validation_status': 'pending', 'status': 'stage'} run_id:6e60d9492a0a48928ec46375026969bc\n",
      "version: 1, tags: {'validation_status': 'approved', 'status': 'archived'} run_id:b02425fbf51e4fd9920677535f5a0f01\n"
     ]
    }
   ],
   "source": [
    "model_name = \"nyc-taxi-regressor\"\n",
    "versions = client.search_model_versions(filter_string=f\"name='{model_name}'\")\n",
    "print(versions)\n",
    "for version in versions:\n",
    "    print(f\"version: {version.version}, tags: {version.tags} run_id:{version.run_id}\")"
   ]
  },
  {
   "cell_type": "code",
   "execution_count": 44,
   "metadata": {},
   "outputs": [],
   "source": [
    "# It is important to delete the alias before deleting the model version\n",
    "# whether not the model can see and list the aliases of former registered models\n",
    "client.delete_registered_model_alias(name=\"nyc-taxi-regressor\", alias=\"tontito\")"
   ]
  },
  {
   "cell_type": "markdown",
   "metadata": {},
   "source": [
    "### Comparing versions of registered models with new data, to select the new champion model."
   ]
  },
  {
   "cell_type": "markdown",
   "metadata": {},
   "source": [
    "steps\n",
    "1. Load the test dataset, which corresponds to the NYC Green Taxi data from the month of March 2023.\n",
    "2. Download the DictVectorizer that was fitted using the training data and saved to MLflow as an artifact, and load it with pickle.\n",
    "3. Preprocess the test set using the DictVectorizer so we can properly feed the regressors.\n",
    "4. Make predictions on the test set using the model versions that are currently tagged and compare their performance.\n",
    "Based on the results, update the tag model version accordingly."
   ]
  },
  {
   "cell_type": "code",
   "execution_count": 47,
   "metadata": {},
   "outputs": [],
   "source": [
    "import pandas as pd\n",
    "from sklearn.metrics import root_mean_squared_error\n",
    "import shutil\n",
    "import pickle\n",
    "from mlflow.tracking import MlflowClient\n",
    "\n",
    "MLFLOW_TRACKING_URI = \"sqlite:///mlflow.db\"\n",
    "client = MlflowClient(tracking_uri=MLFLOW_TRACKING_URI)\n",
    "\n",
    "\n",
    "def read_dataframe(filename):\n",
    "    df = pd.read_parquet(filename)\n",
    "\n",
    "    df.lpep_dropoff_datetime = pd.to_datetime(df.lpep_dropoff_datetime)\n",
    "    df.lpep_pickup_datetime = pd.to_datetime(df.lpep_pickup_datetime)\n",
    "\n",
    "    df[\"duration\"] = df.lpep_dropoff_datetime - df.lpep_pickup_datetime\n",
    "    df.duration = df.duration.apply(lambda td: td.total_seconds() / 60)\n",
    "\n",
    "    df = df[(df.duration >= 1) & (df.duration <= 60)]\n",
    "\n",
    "    categorical = [\"PULocationID\", \"DOLocationID\"]\n",
    "    df[categorical] = df[categorical].astype(str)\n",
    "\n",
    "    return df\n",
    "\n",
    "\n",
    "def preprocess(df, dv):\n",
    "    df[\"PU_DO\"] = df[\"PULocationID\"] + \"_\" + df[\"DOLocationID\"]\n",
    "    cat = [\"PU_DO\"]\n",
    "    num = [\"trip_distance\"]\n",
    "    target = \"duration\"\n",
    "    df_dicts = df[cat + num].to_dict(orient=\"records\")\n",
    "    X_ = dv.transform(df_dicts)\n",
    "    y_ = df[target].values\n",
    "    return X_, y_\n",
    "\n",
    "\n",
    "def test_model(model_path, X_test, y_test):\n",
    "    model = mlflow.pyfunc.load_model(model_path)\n",
    "    y_pred = model.predict(X_test)\n",
    "    return {\"rmse\": root_mean_squared_error(y_test, y_pred)}"
   ]
  },
  {
   "cell_type": "markdown",
   "metadata": {},
   "source": [
    "##### get metrics over the registered models over the new data"
   ]
  },
  {
   "cell_type": "code",
   "execution_count": 70,
   "metadata": {},
   "outputs": [
    {
     "name": "stdout",
     "output_type": "stream",
     "text": [
      "\n",
      "APPROVED | Aliases: challenger1 -- Version: 3 tags: {'validation_status': 'approved', 'status': 'stage'} run_id: 907ceeaca0a140b587ba34fa2afbe49f\n"
     ]
    },
    {
     "data": {
      "application/vnd.jupyter.widget-view+json": {
       "model_id": "7b5095a84bfa4e58960695af1679d8e6",
       "version_major": 2,
       "version_minor": 0
      },
      "text/plain": [
       "Downloading artifacts:   0%|          | 0/1 [00:00<?, ?it/s]"
      ]
     },
     "metadata": {},
     "output_type": "display_data"
    },
    {
     "name": "stdout",
     "output_type": "stream",
     "text": [
      "\n",
      "NOT APPROVED | Aliases: challenger2 -- Version: 2 Tags: {'validation_status': 'pending', 'status': 'stage'}\n",
      "\n",
      "APPROVED | Aliases: challenger3 -- Version: 4 tags: {'validation_status': 'approved', 'status': 'production'} run_id: 90edc445a6a0470b8fc5babbed0f338c\n"
     ]
    },
    {
     "data": {
      "application/vnd.jupyter.widget-view+json": {
       "model_id": "c51ff916c9924635a9da979311a71836",
       "version_major": 2,
       "version_minor": 0
      },
      "text/plain": [
       "Downloading artifacts:   0%|          | 0/1 [00:00<?, ?it/s]"
      ]
     },
     "metadata": {},
     "output_type": "display_data"
    },
    {
     "name": "stdout",
     "output_type": "stream",
     "text": [
      "\n",
      "APPROVED | Aliases: champion -- Version: 1 tags: {'validation_status': 'approved', 'status': 'archived'} run_id: b02425fbf51e4fd9920677535f5a0f01\n"
     ]
    },
    {
     "data": {
      "application/vnd.jupyter.widget-view+json": {
       "model_id": "390913d3618840b8af55e75f5016d10d",
       "version_major": 2,
       "version_minor": 0
      },
      "text/plain": [
       "Downloading artifacts:   0%|          | 0/1 [00:00<?, ?it/s]"
      ]
     },
     "metadata": {},
     "output_type": "display_data"
    },
    {
     "data": {
      "text/plain": [
       "{'challenger1': {'run_id': '907ceeaca0a140b587ba34fa2afbe49f',\n",
       "  'version': 3,\n",
       "  'rmse': {'rmse': 5.580916358639859}},\n",
       " 'challenger3': {'run_id': '90edc445a6a0470b8fc5babbed0f338c',\n",
       "  'version': 4,\n",
       "  'rmse': {'rmse': 8.831252416938195}},\n",
       " 'champion': {'run_id': 'b02425fbf51e4fd9920677535f5a0f01',\n",
       "  'version': 1,\n",
       "  'rmse': {'rmse': 5.594412005390787}}}"
      ]
     },
     "execution_count": 70,
     "metadata": {},
     "output_type": "execute_result"
    }
   ],
   "source": [
    "model_name = \"nyc-taxi-regressor\"\n",
    "data_path = \"TAXI_DATA_FOLDER/green_tripdata_2023-03.parquet\"\n",
    "\n",
    "model_ranking = {}\n",
    "registered_model = client.get_registered_model(model_name)\n",
    "for key, value in registered_model.aliases.items():\n",
    "    retrieved_model = client.get_model_version(model_name, value)\n",
    "    # we only check the validated models, defined in tags\n",
    "    if retrieved_model.tags.get(\"validation_status\") == \"approved\":\n",
    "        print(\n",
    "            f\"\\nAPPROVED | Aliases: {key} -- Version: {value} tags: {retrieved_model.tags} run_id: {retrieved_model.run_id}\"\n",
    "        )\n",
    "        model_path = client.get_model_version_download_uri(\n",
    "            name=model_name, version=value\n",
    "        )\n",
    "        if os.path.exists(\"preprocessor\"):\n",
    "            shutil.rmtree(\"preprocessor\")\n",
    "        os.makedirs(\"preprocessor\", exist_ok=True)\n",
    "        client.download_artifacts(\n",
    "            run_id=retrieved_model.run_id,\n",
    "            path=\"preprocessor/preprocessor.b\",\n",
    "            dst_path=\"preprocessor\",\n",
    "        )\n",
    "        with open(\"preprocessor/preprocessor/preprocessor.b\", \"rb\") as f_in:\n",
    "            dv = pickle.load(f_in)\n",
    "        df = read_dataframe(data_path)\n",
    "        X_test, y_test = preprocess(df, dv)\n",
    "        rmse = test_model(model_path=model_path, X_test=X_test, y_test=y_test)\n",
    "        model_ranking[key] = {\"run_id\": retrieved_model.run_id, \"version\": value, \"rmse\": rmse}\n",
    "    else:\n",
    "        print(\n",
    "            f\"\\nNOT APPROVED | Aliases: {key} -- Version: {value} Tags: {retrieved_model.tags}\"\n",
    "        )\n",
    "\n",
    "model_ranking"
   ]
  },
  {
   "cell_type": "code",
   "execution_count": 76,
   "metadata": {},
   "outputs": [
    {
     "name": "stdout",
     "output_type": "stream",
     "text": [
      "Current Champion: Alias 'champion', Version 1, RMSE: 5.5944\n",
      "\n",
      "New best model identified: Alias 'challenger1',             Version 3, RMSE: 5.5809\n",
      "This model is better than the current Champion (Version 1,                 RMSE: 5.5944).\n",
      "\n",
      "Interchanging aliases:\n",
      "1. Promoting Version 3 (formerly 'challenger1') to 'champion'.\n",
      "2. Assigning alias 'challenger1' to former Champion (Version 1).\n"
     ]
    }
   ],
   "source": [
    "# Ensure 'champion' alias exists and get its data\n",
    "if \"champion\" not in model_ranking:\n",
    "    print(\"No 'champion' model found in model_ranking. Skipping alias interchange.\")\n",
    "else:\n",
    "    champion_data = model_ranking[\"champion\"]\n",
    "    champion_rmse = champion_data[\"rmse\"][\"rmse\"]\n",
    "    champion_version = champion_data[\"version\"]\n",
    "    print(f\"Current Champion: Alias 'champion', Version {champion_version}, RMSE: {champion_rmse:.4f}\")\n",
    "\n",
    "    best_challenger_alias = None\n",
    "    # Initialize with a value slightly higher than champion's RMSE to find any challenger that is better\n",
    "    # Or, more simply, initialize with champion's RMSE and look for strictly smaller RMSE.\n",
    "    min_rmse_among_challengers = champion_rmse\n",
    "    best_challenger_version = None\n",
    "    best_challenger_run_id = None  # For more informative print statements\n",
    "\n",
    "    # Iterate over all models in model_ranking to find the best one that is not the current champion\n",
    "    for alias, data in model_ranking.items():\n",
    "        if alias == \"champion\":\n",
    "            continue  # Skip the current champion itself\n",
    "\n",
    "        current_challenger_rmse = data[\"rmse\"][\"rmse\"]\n",
    "        # We are looking for a model with strictly less RMSE\n",
    "        if current_challenger_rmse < min_rmse_among_challengers:\n",
    "            min_rmse_among_challengers = current_challenger_rmse\n",
    "            best_challenger_alias = alias\n",
    "            best_challenger_version = data[\"version\"]\n",
    "            best_challenger_run_id = data[\"run_id\"]\n",
    "\n",
    "    if best_challenger_alias:\n",
    "        print(\n",
    "            f\"\\nNew best model identified: Alias '{best_challenger_alias}', \\\n",
    "            Version {best_challenger_version}, RMSE: {min_rmse_among_challengers:.4f}\"\n",
    "        )\n",
    "        print(\n",
    "            f\"This model is better than the current Champion (Version {champion_version}, \\\n",
    "                RMSE: {champion_rmse:.4f}).\"\n",
    "        )\n",
    "\n",
    "        print(\"\\nInterchanging aliases:\")\n",
    "        print(f\"1. Promoting Version {best_challenger_version} (formerly '{best_challenger_alias}') to 'champion'.\")\n",
    "        client.set_registered_model_alias(name=model_name, alias=\"champion\", version=best_challenger_version)\n",
    "\n",
    "        print(f\"2. Assigning alias '{best_challenger_alias}' to former Champion (Version {champion_version}).\")\n",
    "        client.set_registered_model_alias(name=model_name, alias=best_challenger_alias, version=champion_version)\n",
    "\n",
    "        print(\"\\nAlias interchange complete.\")\n"
   ]
  }
 ],
 "metadata": {
  "kernelspec": {
   "display_name": ".venv",
   "language": "python",
   "name": "python3"
  },
  "language_info": {
   "codemirror_mode": {
    "name": "ipython",
    "version": 3
   },
   "file_extension": ".py",
   "mimetype": "text/x-python",
   "name": "python",
   "nbconvert_exporter": "python",
   "pygments_lexer": "ipython3",
   "version": "3.12.7"
  }
 },
 "nbformat": 4,
 "nbformat_minor": 2
}
