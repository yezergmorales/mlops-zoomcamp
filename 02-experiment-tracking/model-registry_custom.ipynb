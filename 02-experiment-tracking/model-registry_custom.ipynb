{
 "cells": [
  {
   "cell_type": "markdown",
   "metadata": {},
   "source": [
    "### MLFlow model registry"
   ]
  },
  {
   "cell_type": "markdown",
   "metadata": {},
   "source": [
    "The key idea in this notebook is to do the same done in the ui."
   ]
  },
  {
   "cell_type": "code",
   "execution_count": 46,
   "metadata": {},
   "outputs": [
    {
     "data": {
      "text/plain": [
       "<Experiment: artifact_location='/home/yezergm/mlops-zoomcamp/02-experiment-tracking/mlruns/1', creation_time=1743783492519, experiment_id='1', last_update_time=1743783492519, lifecycle_stage='active', name='NYC-taxi-duration-prediction', tags={}>"
      ]
     },
     "execution_count": 46,
     "metadata": {},
     "output_type": "execute_result"
    }
   ],
   "source": [
    "from mlflow.tracking import MlflowClient\n",
    "from mlflow import register_model, set_tracking_uri\n",
    "import mlflow\n",
    "\n",
    "MLFLOW_TRACKING_URI = \"sqlite:///mlflow.db\"\n",
    "client = MlflowClient(tracking_uri=MLFLOW_TRACKING_URI)\n",
    "client.get_experiment(1)"
   ]
  },
  {
   "cell_type": "code",
   "execution_count": 3,
   "metadata": {},
   "outputs": [
    {
     "data": {
      "text/plain": [
       "<Experiment: artifact_location='/home/yezergm/mlops-zoomcamp/02-experiment-tracking/mlruns/3', creation_time=1744365418165, experiment_id='3', last_update_time=1744365418165, lifecycle_stage='active', name='fake-exp-02', tags={}>"
      ]
     },
     "execution_count": 3,
     "metadata": {},
     "output_type": "execute_result"
    }
   ],
   "source": [
    "client.create_experiment(\"fake-exp-02\")\n",
    "client.get_experiment(3)"
   ]
  },
  {
   "cell_type": "code",
   "execution_count": 2,
   "metadata": {},
   "outputs": [
    {
     "name": "stdout",
     "output_type": "stream",
     "text": [
      "run id: 3463b2d27a214a959b40ab09c3307d55, rmse: 6.3372, rebellious-calf-803\n",
      "run id: b20a13d5349c4884abe7878647f4b3e0, rmse: 6.6505, dazzling-shrew-25\n",
      "run id: 82edfac7c99c4e7398548e465fbc371e, rmse: 6.7113, overjoyed-bird-183\n",
      "run id: 30eb57108c0041b6b8ff08d1479a6ded, rmse: 8.0407, nimble-asp-409\n"
     ]
    }
   ],
   "source": [
    "from mlflow.entities import ViewType\n",
    "runs = client.search_runs(\n",
    "    experiment_ids=\"1\",\n",
    "    filter_string=\"metrics.rmse < 10.0\",\n",
    "    order_by=[\"metrics.rmse ASC\"],\n",
    "    run_view_type=ViewType.ACTIVE_ONLY,\n",
    ")\n",
    "for run in runs:\n",
    "    print(f\"run id: {run.info.run_id}, rmse: {run.data.metrics['rmse']:.4f}, {run.info.run_name}\")\n"
   ]
  },
  {
   "cell_type": "code",
   "execution_count": 52,
   "metadata": {},
   "outputs": [
    {
     "name": "stderr",
     "output_type": "stream",
     "text": [
      "Registered model 'nyc-taxi-regressor' already exists. Creating a new version of this model...\n",
      "Created version '8' of model 'nyc-taxi-regressor'.\n"
     ]
    }
   ],
   "source": [
    "# register models with commands\n",
    "run_id = \"30eb57108c0041b6b8ff08d1479a6ded\"\n",
    "model_uri = f\"runs:/{run_id}/models_mlflow\" # go to run annd check if the path exists\n",
    "set_tracking_uri(MLFLOW_TRACKING_URI)\n",
    "result = register_model(\n",
    "    model_uri=model_uri,\n",
    "    name=\"nyc-taxi-regressor\",\n",
    ")\n",
    "\n",
    "# we can add an aliases in ui\n"
   ]
  },
  {
   "cell_type": "code",
   "execution_count": 44,
   "metadata": {},
   "outputs": [],
   "source": [
    "# It is important to delete the alias before deleting the model version\n",
    "# whether not the model can see and list the aliases of former registered models\n",
    "client.delete_registered_model_alias(name=\"nyc-taxi-regressor\", alias=\"tontito\")"
   ]
  },
  {
   "cell_type": "markdown",
   "metadata": {},
   "source": [
    "### Comparing versions of registered models with new data, to select the new champion model."
   ]
  },
  {
   "cell_type": "markdown",
   "metadata": {},
   "source": [
    "steps\n",
    "1. Load the test dataset, which corresponds to the NYC Green Taxi data from the month of March 2021.\n",
    "2. Download the DictVectorizer that was fitted using the training data and saved to MLflow as an artifact, and load it with pickle.\n",
    "3. Preprocess the test set using the DictVectorizer so we can properly feed the regressors.\n",
    "4. Make predictions on the test set using the model versions that are currently in the \"Staging\" and \"Production\" stages, and compare their performance.\n",
    "Based on the results, update the \"Production\" model version accordingly."
   ]
  },
  {
   "cell_type": "code",
   "execution_count": 54,
   "metadata": {},
   "outputs": [],
   "source": [
    "import pandas as pd\n",
    "from sklearn.metrics import root_mean_squared_error\n",
    "import shutil\n",
    "import pickle\n",
    "from mlflow.tracking import MlflowClient\n",
    "from mlflow import register_model, set_tracking_uri\n",
    "import mlflow\n",
    "\n",
    "MLFLOW_TRACKING_URI = \"sqlite:///mlflow.db\"\n",
    "client = MlflowClient(tracking_uri=MLFLOW_TRACKING_URI)\n",
    "\n",
    "\n",
    "def read_dataframe(filename):\n",
    "    df = pd.read_parquet(filename)\n",
    "\n",
    "    df.lpep_dropoff_datetime = pd.to_datetime(df.lpep_dropoff_datetime)\n",
    "    df.lpep_pickup_datetime = pd.to_datetime(df.lpep_pickup_datetime)\n",
    "\n",
    "    df['duration'] = df.lpep_dropoff_datetime - df.lpep_pickup_datetime\n",
    "    df.duration = df.duration.apply(lambda td: td.total_seconds() / 60)\n",
    "\n",
    "    df = df[(df.duration >= 1) & (df.duration <= 60)]\n",
    "\n",
    "    categorical = ['PULocationID', 'DOLocationID']\n",
    "    df[categorical] = df[categorical].astype(str)\n",
    "    \n",
    "    return df\n",
    "\n",
    "def preprocess(df, dv):\n",
    "    df['PU_DO'] = df['PULocationID'] + '_' + df['DOLocationID']\n",
    "    cat = ['PU_DO']\n",
    "    num = ['trip_distance']\n",
    "    target = 'duration'\n",
    "    df_dicts = df[cat + num].to_dict(orient='records')\n",
    "    X_ = dv.transform(df_dicts)\n",
    "    y_ = df[target].values\n",
    "    return X_, y_\n",
    "\n",
    "def test_model(model_path, X_test, y_test):\n",
    "    model = mlflow.pyfunc.load_model(model_path)\n",
    "    y_pred = model.predict(X_test)\n",
    "    return {\"rmse\": root_mean_squared_error(y_test, y_pred)}"
   ]
  },
  {
   "cell_type": "markdown",
   "metadata": {},
   "source": [
    "##### get metrics over the registered models over the new data"
   ]
  },
  {
   "cell_type": "code",
   "execution_count": 58,
   "metadata": {},
   "outputs": [
    {
     "name": "stdout",
     "output_type": "stream",
     "text": [
      "<RegisteredModel: aliases={'challenger': 2, 'champion': 1, 'toletito': 6}, creation_timestamp=1744122608228, description='This is a model to calculate taxi ride duration', last_updated_timestamp=1744378081892, latest_versions=[<ModelVersion: aliases=[], creation_timestamp=1744377032759, current_stage='None', description='', last_updated_timestamp=1744377032759, name='nyc-taxi-regressor', run_id='82edfac7c99c4e7398548e465fbc371e', run_link='', source='/home/yezergm/mlops-zoomcamp/02-experiment-tracking/mlruns/1/82edfac7c99c4e7398548e465fbc371e/artifacts/models_mlflow', status='READY', status_message=None, tags={}, user_id=None, version=6>], name='nyc-taxi-regressor', tags={}>\n",
      "Aliases: challenger -- Version: 2\n",
      "/home/yezergm/mlops-zoomcamp/02-experiment-tracking/mlruns/1/b20a13d5349c4884abe7878647f4b3e0/artifacts/models_mlflow\n"
     ]
    },
    {
     "data": {
      "application/vnd.jupyter.widget-view+json": {
       "model_id": "d5ec726d430045649e2a6aa453bbf456",
       "version_major": 2,
       "version_minor": 0
      },
      "text/plain": [
       "Downloading artifacts:   0%|          | 0/1 [00:00<?, ?it/s]"
      ]
     },
     "metadata": {},
     "output_type": "display_data"
    },
    {
     "name": "stdout",
     "output_type": "stream",
     "text": [
      "Aliases: champion -- Version: 1\n",
      "/home/yezergm/mlops-zoomcamp/02-experiment-tracking/mlruns/1/3463b2d27a214a959b40ab09c3307d55/artifacts/models_mlflow\n"
     ]
    },
    {
     "data": {
      "application/vnd.jupyter.widget-view+json": {
       "model_id": "adcc3832eb814a57886ad1057ccda075",
       "version_major": 2,
       "version_minor": 0
      },
      "text/plain": [
       "Downloading artifacts:   0%|          | 0/1 [00:00<?, ?it/s]"
      ]
     },
     "metadata": {},
     "output_type": "display_data"
    },
    {
     "name": "stdout",
     "output_type": "stream",
     "text": [
      "Aliases: toletito -- Version: 6\n",
      "/home/yezergm/mlops-zoomcamp/02-experiment-tracking/mlruns/1/82edfac7c99c4e7398548e465fbc371e/artifacts/models_mlflow\n"
     ]
    },
    {
     "data": {
      "application/vnd.jupyter.widget-view+json": {
       "model_id": "eec5a9dfbae04e32925d78424a9c47cb",
       "version_major": 2,
       "version_minor": 0
      },
      "text/plain": [
       "Downloading artifacts:   0%|          | 0/1 [00:00<?, ?it/s]"
      ]
     },
     "metadata": {},
     "output_type": "display_data"
    },
    {
     "data": {
      "text/plain": [
       "{'challenger': {'run_id': '30eb57108c0041b6b8ff08d1479a6ded',\n",
       "  'version': 2,\n",
       "  'rmse': {'rmse': 6.579025207611266}},\n",
       " 'champion': {'run_id': '30eb57108c0041b6b8ff08d1479a6ded',\n",
       "  'version': 1,\n",
       "  'rmse': {'rmse': 6.278375017835054}},\n",
       " 'toletito': {'run_id': '30eb57108c0041b6b8ff08d1479a6ded',\n",
       "  'version': 6,\n",
       "  'rmse': {'rmse': 6.63079976082962}}}"
      ]
     },
     "execution_count": 58,
     "metadata": {},
     "output_type": "execute_result"
    }
   ],
   "source": [
    "model_name = \"nyc-taxi-regressor\"\n",
    "data_path = \"data/green_tripdata_2021-03.parquet\"\n",
    "\n",
    "model_ranking = {}\n",
    "registered_model =client.get_registered_model(model_name)\n",
    "print(registered_model)\n",
    "for key, value in registered_model.aliases.items():\n",
    "    print(f\"Aliases: {key} -- Version: {value}\")\n",
    "    retrieved_model = client.get_model_version(model_name, value)\n",
    "    model_path = client.get_model_version_download_uri(name=model_name, version=value)\n",
    "    print(client.get_model_version_download_uri(name=model_name, version=value))\n",
    "    shutil.rmtree(\"preprocessor\")\n",
    "    mlflow.artifacts.download_artifacts(\n",
    "        f\"runs:/{run_id}/preprocessor/preprocessor.b\",\n",
    "        dst_path = \"preprocessor\")\n",
    "    with open(\"preprocessor/preprocessor.b\", \"rb\") as f_in:\n",
    "        dv = pickle.load(f_in)\n",
    "    df = read_dataframe(data_path)\n",
    "    X_test, y_test = preprocess(df, dv)\n",
    "    rmse = test_model(model_path=model_path, X_test=X_test, y_test=y_test)\n",
    "    model_ranking[key] = {'run_id': run_id, 'version': value, 'rmse': rmse}\n",
    "\n",
    "model_ranking\n",
    "\n",
    "\n"
   ]
  }
 ],
 "metadata": {
  "kernelspec": {
   "display_name": "exp-tracking-env",
   "language": "python",
   "name": "python3"
  },
  "language_info": {
   "codemirror_mode": {
    "name": "ipython",
    "version": 3
   },
   "file_extension": ".py",
   "mimetype": "text/x-python",
   "name": "python",
   "nbconvert_exporter": "python",
   "pygments_lexer": "ipython3",
   "version": "3.12.7"
  }
 },
 "nbformat": 4,
 "nbformat_minor": 2
}
