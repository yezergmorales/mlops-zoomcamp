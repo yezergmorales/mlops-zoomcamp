{
 "cells": [
  {
   "cell_type": "code",
   "execution_count": 1,
   "id": "fc502f87-5b0d-4884-826d-8b08bd68cc48",
   "metadata": {},
   "outputs": [
    {
     "name": "stdout",
     "output_type": "stream",
     "text": [
      "Python 3.12.3\n"
     ]
    }
   ],
   "source": [
    "import pandas as pd\n",
    "import seaborn as sns\n",
    "from sklearn.feature_extraction import DictVectorizer\n",
    "from sklearn.linear_model import LinearRegression\n",
    "from sklearn.metrics import root_mean_squared_error\n",
    "!python -V"
   ]
  },
  {
   "cell_type": "markdown",
   "id": "0b236f9c",
   "metadata": {},
   "source": [
    "##### Q1"
   ]
  },
  {
   "cell_type": "code",
   "execution_count": 2,
   "id": "03e1e124",
   "metadata": {},
   "outputs": [
    {
     "name": "stdout",
     "output_type": "stream",
     "text": [
      "Number of columns in df_jan: 19\n"
     ]
    }
   ],
   "source": [
    "url_jan_2023 = 'https://d37ci6vzurychx.cloudfront.net/trip-data/yellow_tripdata_2023-01.parquet'\n",
    "url_feb_2023 = 'https://d37ci6vzurychx.cloudfront.net/trip-data/yellow_tripdata_2023-02.parquet'\n",
    "\n",
    "df_jan = pd.read_parquet(url_jan_2023)\n",
    "\n",
    "print(f\"Number of columns in df_jan: {len(df_jan.columns)}\")\n",
    "\n",
    "selected_cols = ['tpep_pickup_datetime',\n",
    "    'tpep_dropoff_datetime',\n",
    "    'PULocationID',\n",
    "    'DOLocationID',\n",
    "    'passenger_count',\n",
    "    'trip_distance',\n",
    "    'total_amount'\n",
    "    ]\n"
   ]
  },
  {
   "cell_type": "markdown",
   "id": "09e8d4f6",
   "metadata": {},
   "source": [
    "##### Q2, Q3"
   ]
  },
  {
   "cell_type": "code",
   "execution_count": 4,
   "id": "e8ce511a",
   "metadata": {},
   "outputs": [
    {
     "name": "stdout",
     "output_type": "stream",
     "text": [
      "count    3.066766e+06\n",
      "mean     1.566900e+01\n",
      "std      4.259435e+01\n",
      "min     -2.920000e+01\n",
      "50%      1.151667e+01\n",
      "95%      3.646667e+01\n",
      "98%      4.873333e+01\n",
      "99.9%    1.758215e+02\n",
      "max      1.002918e+04\n",
      "Name: duration, dtype: float64\n",
      "Records left: 98.1220282212598%\n"
     ]
    },
    {
     "data": {
      "text/plain": [
       "<Axes: xlabel='duration', ylabel='Count'>"
      ]
     },
     "execution_count": 4,
     "metadata": {},
     "output_type": "execute_result"
    },
    {
     "data": {
      "image/png": "[encoded data removed]",
      "text/plain": [
       "<Figure size 640x480 with 1 Axes>"
      ]
     },
     "metadata": {},
     "output_type": "display_data"
    }
   ],
   "source": [
    "df = df_jan[selected_cols].copy()\n",
    "df['duration'] = df.tpep_dropoff_datetime - df.tpep_pickup_datetime\n",
    "df.duration = df.duration.apply(lambda x: x.total_seconds() / 60)\n",
    "print(df.duration.describe(percentiles=[0.95, 0.98, 0.999]))\n",
    "original_jan_size = len(df)\n",
    "df = df[(df.duration <= 60) & (df.duration >= 1)]\n",
    "records_left = len(df)*100/original_jan_size\n",
    "print(f\"Records left: {records_left}%\")\n",
    "sns.histplot(df.duration, label='duration')\n"
   ]
  },
  {
   "cell_type": "markdown",
   "id": "a969c02d",
   "metadata": {},
   "source": [
    "##### Q4"
   ]
  },
  {
   "cell_type": "code",
   "execution_count": 3,
   "id": "84ee9586",
   "metadata": {},
   "outputs": [
    {
     "name": "stdout",
     "output_type": "stream",
     "text": [
      "Feature matrix columns: 515\n"
     ]
    }
   ],
   "source": [
    "df = df_jan[selected_cols].copy()\n",
    "df['duration'] = df.tpep_dropoff_datetime - df.tpep_pickup_datetime\n",
    "df.duration = df.duration.apply(lambda x: x.total_seconds() / 60)\n",
    "df = df[(df.duration <= 60) & (df.duration >= 1)]\n",
    "cat = ['PULocationID', 'DOLocationID']\n",
    "df = df[cat + ['duration']]\n",
    "df[cat] = df[cat].astype(str)\n",
    "dv = DictVectorizer()\n",
    "dict_list = df[cat].to_dict(orient='records')\n",
    "X = dv.fit_transform(dict_list)\n",
    "print(f\"Feature matrix columns: {X.shape[1]}\")\n",
    "del df, df_jan, X, dv\n"
   ]
  },
  {
   "cell_type": "markdown",
   "id": "0ff2ed4a",
   "metadata": {},
   "source": [
    "##### Q5"
   ]
  },
  {
   "cell_type": "code",
   "execution_count": 4,
   "id": "81ed3ab2",
   "metadata": {},
   "outputs": [
    {
     "name": "stdout",
     "output_type": "stream",
     "text": [
      "RMSE: 7.6492624397080675\n"
     ]
    }
   ],
   "source": [
    "def read_process_data(filename: str, feature_cols: list, target: str) -> pd.DataFrame:\n",
    "    df = pd.read_parquet(filename)\n",
    "    df[target] = df.tpep_dropoff_datetime - df.tpep_pickup_datetime\n",
    "    df.duration = df.duration.apply(lambda x: x.total_seconds() / 60)\n",
    "    df = df[(df.duration <= 60) & (df.duration >= 1)]\n",
    "    df = df[feature_cols + [target]]\n",
    "    df[feature_cols] = df[feature_cols].astype(str)\n",
    "\n",
    "    return df\n",
    "\n",
    "# load & processing\n",
    "feature_cols = ['PULocationID', 'DOLocationID']\n",
    "target = 'duration'\n",
    "df_train = read_process_data(\n",
    "    filename = url_jan_2023,\n",
    "    feature_cols = feature_cols,\n",
    "    target = target\n",
    "    )\n",
    "dv = DictVectorizer()\n",
    "train_dicts = df_train[feature_cols].to_dict(orient='records')\n",
    "X_train = dv.fit_transform(train_dicts)\n",
    "y_train = df_train[target].values\n",
    "\n",
    "# training\n",
    "lr = LinearRegression()\n",
    "lr.fit(X_train, y_train)\n",
    "y_pred = lr.predict(X_train)\n",
    "\n",
    "# eval\n",
    "print(f\"RMSE: {root_mean_squared_error(y_train, y_pred)}\")\n",
    "\n",
    "del df_train, y_train, train_dicts\n",
    "\n"
   ]
  },
  {
   "cell_type": "markdown",
   "id": "64f416a7",
   "metadata": {},
   "source": [
    "##### Q6"
   ]
  },
  {
   "cell_type": "code",
   "execution_count": 5,
   "id": "a0f9321d",
   "metadata": {},
   "outputs": [
    {
     "name": "stdout",
     "output_type": "stream",
     "text": [
      "RMSE val: 7.81181211389241\n"
     ]
    }
   ],
   "source": [
    "# load & processing\n",
    "df_val = read_process_data(\n",
    "    filename = url_feb_2023,\n",
    "    feature_cols = feature_cols,\n",
    "    target = target\n",
    "    )\n",
    "\n",
    "val_dicts = df_val[feature_cols].to_dict(orient='records')\n",
    "X_val = dv.transform(val_dicts)\n",
    "y_val = df_val[target].values\n",
    "\n",
    "y_pred_val = lr.predict(X_val)\n",
    "print(f'RMSE val: {root_mean_squared_error(y_val, y_pred_val)}')"
   ]
  }
 ],
 "metadata": {
  "kernelspec": {
   "display_name": "base",
   "language": "python",
   "name": "python3"
  },
  "language_info": {
   "codemirror_mode": {
    "name": "ipython",
    "version": 3
   },
   "file_extension": ".py",
   "mimetype": "text/x-python",
   "name": "python",
   "nbconvert_exporter": "python",
   "pygments_lexer": "ipython3",
   "version": "3.12.3"
  }
 },
 "nbformat": 4,
 "nbformat_minor": 5
}
