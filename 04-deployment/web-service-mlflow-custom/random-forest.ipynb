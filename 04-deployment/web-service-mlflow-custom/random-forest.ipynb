{
 "cells": [
  {
   "cell_type": "code",
   "execution_count": 15,
   "id": "2e25cf66",
   "metadata": {},
   "outputs": [],
   "source": [
    "import pickle\n",
    "import pandas as pd\n",
    "from sklearn.feature_extraction import DictVectorizer\n",
    "from sklearn.ensemble import RandomForestRegressor\n",
    "from sklearn.metrics import root_mean_squared_error\n",
    "from sklearn.pipeline import make_pipeline\n",
    "from mlflow.tracking import MlflowClient\n",
    "import mlflow"
   ]
  },
  {
   "cell_type": "code",
   "execution_count": 16,
   "id": "506bec39",
   "metadata": {},
   "outputs": [
    {
     "data": {
      "text/plain": [
       "<Experiment: artifact_location='s3://yezer-artifacts-remote-01/2', creation_time=1750755959246, experiment_id='2', last_update_time=1750755959246, lifecycle_stage='active', name='green-taxi-duration', tags={}>"
      ]
     },
     "execution_count": 16,
     "metadata": {},
     "output_type": "execute_result"
    }
   ],
   "source": [
    "mlflow.set_tracking_uri(\"http://127.0.0.1:5000\")\n",
    "mlflow.set_experiment(\"green-taxi-duration\")"
   ]
  },
  {
   "cell_type": "code",
   "execution_count": 17,
   "id": "b9666e19",
   "metadata": {},
   "outputs": [],
   "source": [
    "def read_dataframe(filename: str):\n",
    "    df = pd.read_parquet(filename)\n",
    "\n",
    "    df['duration'] = df.lpep_dropoff_datetime - df.lpep_pickup_datetime\n",
    "    df.duration = df.duration.dt.total_seconds() / 60\n",
    "    df = df[(df.duration >= 1) & (df.duration <= 60)]\n",
    "\n",
    "    categorical = ['PULocationID', 'DOLocationID']\n",
    "    df[categorical] = df[categorical].astype(str)\n",
    "    return df\n",
    "\n",
    "\n",
    "def prepare_dictionaries(df: pd.DataFrame):\n",
    "    df['PU_DO'] = df['PULocationID'] + '_' + df['DOLocationID']\n",
    "    categorical = ['PU_DO']\n",
    "    numerical = ['trip_distance']\n",
    "    dicts = df[categorical + numerical].to_dict(orient='records')\n",
    "    return dicts"
   ]
  },
  {
   "cell_type": "code",
   "execution_count": 18,
   "id": "6b5f0d80",
   "metadata": {},
   "outputs": [],
   "source": [
    "df_train = read_dataframe('/home/yezer/projects/mlops-zoomcamp/01-intro/data/green_tripdata_2021-01.parquet')\n",
    "df_val = read_dataframe('/home/yezer/projects/mlops-zoomcamp/01-intro/data/green_tripdata_2021-02.parquet')\n",
    "df_val2 = read_dataframe('/home/yezer/projects/mlops-zoomcamp/01-intro/data/green_tripdata_2021-03.parquet')\n",
    "\n",
    "target = 'duration'\n",
    "y_train = df_train[target].values\n",
    "y_val = df_val[target].values\n",
    "y_val2 = df_val2[target].values\n",
    "\n",
    "dict_train = prepare_dictionaries(df_train)\n",
    "dict_val = prepare_dictionaries(df_val)\n",
    "dict_val2 = prepare_dictionaries(df_val2)\n"
   ]
  },
  {
   "cell_type": "code",
   "execution_count": 19,
   "id": "c73081e1",
   "metadata": {},
   "outputs": [
    {
     "name": "stdout",
     "output_type": "stream",
     "text": [
      "{'max_depth': 20, 'n_estimators': 100, 'min_samples_leaf': 10, 'random_state': 0} 6.7558229919200725\n"
     ]
    },
    {
     "name": "stderr",
     "output_type": "stream",
     "text": [
      "2025/06/24 14:53:14 WARNING mlflow.models.model: `artifact_path` is deprecated. Please use `name` instead.\n",
      "2025/06/24 14:53:27 WARNING mlflow.utils.environment: Failed to resolve installed pip version. ``pip`` will be added to conda.yaml environment spec without a version specifier.\n",
      "\u001b[31m2025/06/24 14:53:27 WARNING mlflow.models.model: Model logged without a signature and input example. Please set `input_example` parameter when logging the model to auto infer the model signature.\u001b[0m\n"
     ]
    },
    {
     "name": "stdout",
     "output_type": "stream",
     "text": [
      "Model logged with run_id: 008260e4b5964963ac9d0b969c887af2\n",
      "🏃 View run spiffy-turtle-112 at: http://127.0.0.1:5000/#/experiments/2/runs/008260e4b5964963ac9d0b969c887af2\n",
      "🧪 View experiment at: http://127.0.0.1:5000/#/experiments/2\n"
     ]
    }
   ],
   "source": [
    "with mlflow.start_run():\n",
    "    params = dict(max_depth=20, n_estimators=100, min_samples_leaf=10, random_state=0)\n",
    "    mlflow.log_params(params)\n",
    "\n",
    "    # Option 1: Save pipeline (vectorizer + model together)\n",
    "    pipeline = make_pipeline(\n",
    "        DictVectorizer(),\n",
    "        RandomForestRegressor(**params, n_jobs=-1)\n",
    "    )\n",
    "\n",
    "    pipeline.fit(dict_train, y_train)\n",
    "    y_pred = pipeline.predict(dict_val)\n",
    "\n",
    "    rmse = root_mean_squared_error(y_pred, y_val)\n",
    "    print(params, rmse)\n",
    "    mlflow.log_metric('rmse', rmse)\n",
    "\n",
    "    # Log the entire pipeline as a model\n",
    "    # This saves both the DictVectorizer and RandomForestRegressor as one unit\n",
    "    # Advantage: Everything is packaged together, easier to load and use\n",
    "    # Disadvantage: Less flexibility if you need to access components separately\n",
    "    mlflow.sklearn.log_model(pipeline, artifact_path=\"model\")\n",
    "    \n",
    "    # Option 2: Save vectorizer and model separately (commented out)\n",
    "    # dv = DictVectorizer()\n",
    "    # X_train = dv.fit_transform(dict_train)\n",
    "    # X_val = dv.transform(dict_val)\n",
    "    # model = RandomForestRegressor(**params, n_jobs=-1)\n",
    "    # model.fit(X_train, y_train)\n",
    "    # \n",
    "    # # Save vectorizer separately\n",
    "    # with open(\"dict_vectorizer.bin\", \"wb\") as f_out:\n",
    "    #     pickle.dump(dv, f_out)\n",
    "    # mlflow.log_artifact(\"dict_vectorizer.bin\")\n",
    "    # mlflow.sklearn.log_model(model, artifact_path=\"model\")\n",
    "    #\n",
    "    # Advantage: Can access vectorizer and model independently\n",
    "    # Disadvantage: More complex to manage two separate artifacts\n",
    "    \n",
    "    # Get the current run ID for downloading the model later\n",
    "    run_id = mlflow.active_run().info.run_id\n",
    "    print(f\"Model logged with run_id: {run_id}\")"
   ]
  },
  {
   "cell_type": "code",
   "execution_count": 12,
   "id": "c22bbccb",
   "metadata": {},
   "outputs": [
    {
     "name": "stdout",
     "output_type": "stream",
     "text": [
      "Model loaded from run_id: c06055301c0b4bec9f7fff83866d7f21\n",
      "Model type: <class 'sklearn.pipeline.Pipeline'>\n",
      "6.7558229919200725\n",
      "6.674615873838019\n"
     ]
    }
   ],
   "source": [
    "MLFLOW_TRACKING_URI = \"http://127.0.0.1:5000\"\n",
    "RUN_ID = 'c06055301c0b4bec9f7fff83866d7f21'\n",
    "\n",
    "# Download the entire pipeline model\n",
    "logged_model = f'runs:/{RUN_ID}/model'\n",
    "\n",
    "# Load the model using mlflow\n",
    "loaded_model = mlflow.sklearn.load_model(logged_model)\n",
    "\n",
    "# Alternatively, you can download the model artifacts directly\n",
    "# path = client.download_artifacts(run_id=run_id, path='model')\n",
    "# loaded_model = mlflow.sklearn.load_model(path)\n",
    "\n",
    "print(f\"Model loaded from run_id: {RUN_ID}\")\n",
    "print(f\"Model type: {type(loaded_model)}\")\n",
    "\n",
    "y_pred = loaded_model.predict(dict_val)\n",
    "rmse = root_mean_squared_error(y_pred, y_val)\n",
    "print(rmse)\n",
    "\n",
    "y_pred = loaded_model.predict(dict_val2)\n",
    "rmse = root_mean_squared_error(y_pred, y_val2)\n",
    "print(rmse)\n"
   ]
  },
  {
   "cell_type": "code",
   "execution_count": 12,
   "id": "8ff6b57e",
   "metadata": {},
   "outputs": [],
   "source": [
    "client = MlflowClient(tracking_uri=MLFLOW_TRACKING_URI)"
   ]
  },
  {
   "cell_type": "code",
   "execution_count": 14,
   "id": "524f7008",
   "metadata": {},
   "outputs": [
    {
     "name": "stdout",
     "output_type": "stream",
     "text": [
      "None\n"
     ]
    }
   ],
   "source": [
    "path = client.download_artifacts(run_id=RUN_ID, path='dict_vectorizer.bin')\n",
    "print(path)"
   ]
  },
  {
   "cell_type": "code",
   "execution_count": 22,
   "id": "d760f7ed",
   "metadata": {},
   "outputs": [],
   "source": [
    "with open(path, 'rb') as f_out:\n",
    "    dv = pickle.load(f_out)"
   ]
  },
  {
   "cell_type": "code",
   "execution_count": 23,
   "id": "c35deb48",
   "metadata": {},
   "outputs": [
    {
     "data": {
      "text/plain": [
       "DictVectorizer()"
      ]
     },
     "execution_count": 23,
     "metadata": {},
     "output_type": "execute_result"
    }
   ],
   "source": [
    "dv"
   ]
  },
  {
   "cell_type": "code",
   "execution_count": null,
   "id": "529caf33",
   "metadata": {},
   "outputs": [],
   "source": []
  }
 ],
 "metadata": {
  "kernelspec": {
   "display_name": ".venv",
   "language": "python",
   "name": "python3"
  },
  "language_info": {
   "codemirror_mode": {
    "name": "ipython",
    "version": 3
   },
   "file_extension": ".py",
   "mimetype": "text/x-python",
   "name": "python",
   "nbconvert_exporter": "python",
   "pygments_lexer": "ipython3",
   "version": "3.12.3"
  }
 },
 "nbformat": 4,
 "nbformat_minor": 5
}
